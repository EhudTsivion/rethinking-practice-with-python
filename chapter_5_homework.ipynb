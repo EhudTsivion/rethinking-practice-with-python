{
 "cells": [
  {
   "cell_type": "markdown",
   "metadata": {
    "collapsed": true
   },
   "source": [
    "# Homework for chapter 5 in \"Statistical Rethinking\""
   ]
  },
  {
   "cell_type": "code",
   "execution_count": 1,
   "metadata": {},
   "outputs": [
    {
     "name": "stderr",
     "output_type": "stream",
     "text": [
      "/home/tsivion/pyenvs/rethinking/lib/python3.6/site-packages/statsmodels/compat/pandas.py:56: FutureWarning: The pandas.core.datetools module is deprecated and will be removed in a future version. Please use the pandas.tseries module instead.\n",
      "  from pandas.core import datetools\n"
     ]
    }
   ],
   "source": [
    "import pymc3 as pm\n",
    "import numpy as np\n",
    "import pandas as pd\n",
    "from scipy import stats\n",
    "from scipy.stats import norm\n",
    "\n",
    "from theano import shared\n",
    "import statsmodels.api as sm\n",
    "np.random.seed(770)"
   ]
  },
  {
   "cell_type": "code",
   "execution_count": 2,
   "metadata": {},
   "outputs": [],
   "source": [
    "import seaborn as sns\n",
    "import matplotlib.pylab as plt\n",
    "%matplotlib inline"
   ]
  },
  {
   "cell_type": "markdown",
   "metadata": {},
   "source": [
    "## Easy.\n",
    "### 5E1.\n",
    "The following linear models are **not** multiple linear regressions:\n",
    "1. $\\mu_i=\\alpha + \\beta x_i$ - This is just a linear regression with intercept on one slope.\n",
    "3. $\\mu_i=\\alpha + \\beta (x_i - z_i)$ - There is only one slope on a single feature which is \"engeineerd\" by reducing $z_i$ from $x_i$."
   ]
  },
  {
   "cell_type": "markdown",
   "metadata": {},
   "source": [
    "### 5E2.\n",
    "To see if animal diversity is linearly related to latitude, but only after controlling for plant diversity, we'll write down a multilinear model:\n",
    "\n",
    "1. $AnimalDiversity \\sim \\mathcal{N}(\\mu, \\sigma)$ (likelihood).\n",
    "2. $\\mu = \\alpha + \\beta_1 latitute + \\beta_2 PlandDiversity$ (linear model).\n",
    "3. I'll skip the description of the priors for $\\sigma$, $\\alpha$ and $\\beta_{(1, 2)}$."
   ]
  },
  {
   "cell_type": "markdown",
   "metadata": {
    "collapsed": true
   },
   "source": [
    "### 5E3.\n",
    "We'll write a multiple regression to express the relationship between funding (FN) and laboratory size (LZ) with time to PhD (TPHD):\n",
    "\n",
    "1. $TPHD \\sim \\mathcal{N}(\\mu, \\sigma)$ (likelihood).\n",
    "2. $\\mu = \\alpha + \\beta_1 FN + \\beta_2 LZ$\n",
    "3. I skip the details of the priors. $\\alpha \\sim \\mathcal{U}, \\beta_{1,2} \\sim \\mathcal{N}$ \n",
    "\n",
    "Both $beta$'s should be somewhat positive, but small. It should be beneficial to add an interaction term in the form of: $\\mu = ... + \\beta_3 (FN \\cdot LZ)$ in this case, $\\beta_3$ should be large and positive."
   ]
  },
  {
   "cell_type": "markdown",
   "metadata": {},
   "source": [
    "### 5E4. \n",
    "To fit a linear model for a categorical variable of 4 levels we need four coefficients: $\\alpha$ (intercept) and $\\beta_{1, 2, 3}$, otherwise the linear equation is overdetermined. Equations (1) (3) and (5) qualify for that. Note, that the terms in equation (5) need to be re-arranged to see that."
   ]
  },
  {
   "cell_type": "markdown",
   "metadata": {},
   "source": [
    "## Medium"
   ]
  },
  {
   "cell_type": "markdown",
   "metadata": {
    "collapsed": true
   },
   "source": [
    "### 5M1.\n",
    "Let's invent our own model for spurious correlation:\n",
    "X - is the true predictor variable.\n",
    "Y - is the true outcome variable.\n",
    "Y_spure - is the spurious variable, which is strongly correlated with the true predictor."
   ]
  },
  {
   "cell_type": "code",
   "execution_count": 3,
   "metadata": {},
   "outputs": [],
   "source": [
    "N = 200\n",
    "df = pd.DataFrame()\n",
    "df['X'] = norm.rvs(size=N)\n",
    "df['Y'] = 0.1 + 0.2 * norm.rvs(loc=df['X'])\n",
    "df['Y_spure'] = norm.rvs(loc=df['X'], scale=0.2)"
   ]
  },
  {
   "cell_type": "code",
   "execution_count": 4,
   "metadata": {},
   "outputs": [
    {
     "name": "stdout",
     "output_type": "stream",
     "text": [
      "X coef: 0.21, Pval: 0.00\n"
     ]
    }
   ],
   "source": [
    "mod5m1 = sm.OLS.from_formula('Y ~ X', data=df)\n",
    "m5m1res = mod5m1.fit()\n",
    "print('X coef: {:0.2f}, Pval: {:0.2f}'.format(m5m1res.params['X'], m5m1res.pvalues['X']))"
   ]
  },
  {
   "cell_type": "code",
   "execution_count": 5,
   "metadata": {},
   "outputs": [
    {
     "name": "stdout",
     "output_type": "stream",
     "text": [
      "Y_spure coef: 0.20, Pval: 0.00\n"
     ]
    }
   ],
   "source": [
    "mod5m2 = sm.OLS.from_formula('Y ~ Y_spure', data=df)\n",
    "m5m2res = mod5m2.fit()\n",
    "print('Y_spure coef: {:0.2f}, Pval: {:0.2f}'.format(m5m2res.params['Y_spure'], m5m2res.pvalues['Y_spure']))"
   ]
  },
  {
   "cell_type": "code",
   "execution_count": 6,
   "metadata": {},
   "outputs": [
    {
     "name": "stdout",
     "output_type": "stream",
     "text": [
      "X coef: 0.19, Pval: 0.01\n",
      "Y_spure coef: 0.01, Pval: 0.83\n"
     ]
    }
   ],
   "source": [
    "mod5m3 = sm.OLS.from_formula('Y ~ X + Y_spure', data=df)\n",
    "m5m3res = mod5m3.fit()\n",
    "print('X coef: {:0.2f}, Pval: {:0.2f}'.format(m5m3res.params['X'], m5m3res.pvalues['X']))\n",
    "print('Y_spure coef: {:0.2f}, Pval: {:0.2f}'.format(m5m3res.params['Y_spure'], m5m3res.pvalues['Y_spure']))"
   ]
  },
  {
   "cell_type": "markdown",
   "metadata": {},
   "source": [
    "In mode5m2 the spurious variable `Y_spure` seems to be a good predictor of `Y`. Howeverm in mod5m3, which the true predictor `X` is added, the coefficient of `Y_spure` id diminished."
   ]
  },
  {
   "cell_type": "markdown",
   "metadata": {},
   "source": [
    "### 5M2.\n",
    "Example of a masked relationship:"
   ]
  },
  {
   "cell_type": "code",
   "execution_count": 7,
   "metadata": {},
   "outputs": [
    {
     "data": {
      "image/png": "[encoded data removed]",
      "text/plain": [
       "<matplotlib.figure.Figure at 0x7fe5448aaf98>"
      ]
     },
     "metadata": {},
     "output_type": "display_data"
    }
   ],
   "source": [
    "N = 200\n",
    "df2 = pd.DataFrame()\n",
    "df2['X1'] = norm.rvs(size=N)\n",
    "df2['X2'] = 0.5 + 0.5*norm.rvs(loc=df2['X1'])\n",
    "\n",
    "sns.distplot(df2['X1'], label='X1')\n",
    "sns.distplot(df2['X2'], label='X2')\n",
    "plt.xlabel('X1, X2')\n",
    "plt.ylabel('PDF')\n",
    "plt.ylim(0, 1)\n",
    "plt.legend();"
   ]
  },
  {
   "cell_type": "code",
   "execution_count": 8,
   "metadata": {},
   "outputs": [],
   "source": [
    "# generate the dependant variable\n",
    "df2['Y'] = norm.rvs(size=N, loc=(df2['X1'] - 2*df2['X2']), scale=2)"
   ]
  },
  {
   "cell_type": "markdown",
   "metadata": {},
   "source": [
    "`Y` is correlated with `X1`:"
   ]
  },
  {
   "cell_type": "code",
   "execution_count": 9,
   "metadata": {},
   "outputs": [
    {
     "name": "stdout",
     "output_type": "stream",
     "text": [
      "X1 coef: -0.02, Pval: 0.90\n"
     ]
    }
   ],
   "source": [
    "m521 = sm.OLS.from_formula('Y ~ X1', data=df2)\n",
    "m521res = m521.fit()\n",
    "print('X1 coef: {:0.2f}, Pval: {:0.2f}'.format(m521res.params['X1'], m521res.pvalues['X1']))"
   ]
  },
  {
   "cell_type": "markdown",
   "metadata": {},
   "source": [
    "`Y` is correlated with `X2`:"
   ]
  },
  {
   "cell_type": "code",
   "execution_count": 10,
   "metadata": {},
   "outputs": [
    {
     "name": "stdout",
     "output_type": "stream",
     "text": [
      "X2 coef: -0.75, Pval: 0.00\n"
     ]
    }
   ],
   "source": [
    "m522 = sm.OLS.from_formula('Y ~ X2', data=df2)\n",
    "m522res = m522.fit()\n",
    "print('X2 coef: {:0.2f}, Pval: {:0.2f}'.format(m522res.params['X2'], m522res.pvalues['X2']))"
   ]
  },
  {
   "cell_type": "markdown",
   "metadata": {},
   "source": [
    "`X1` and `X2` are correlated:"
   ]
  },
  {
   "cell_type": "code",
   "execution_count": 11,
   "metadata": {},
   "outputs": [
    {
     "name": "stdout",
     "output_type": "stream",
     "text": [
      "X2 coef: -0.75, Pval: 0.00\n"
     ]
    }
   ],
   "source": [
    "m523 = sm.OLS.from_formula('X1 ~ X2', data=df2)\n",
    "m523res = m522.fit()\n",
    "print('X2 coef: {:0.2f}, Pval: {:0.2f}'.format(m523res.params['X2'], m523res.pvalues['X2']))"
   ]
  },
  {
   "cell_type": "markdown",
   "metadata": {},
   "source": [
    "If both predictor variables are included in the model, a stronger relationship is revealed (larger coefficients): "
   ]
  },
  {
   "cell_type": "code",
   "execution_count": 12,
   "metadata": {},
   "outputs": [
    {
     "name": "stdout",
     "output_type": "stream",
     "text": [
      "X1 coef: 0.82, Pval: 0.00\n",
      "X2 coef: -1.63, Pval: 0.00\n"
     ]
    }
   ],
   "source": [
    "m524 = sm.OLS.from_formula('Y ~ X2 + X1', data=df2)\n",
    "m524res = m524.fit()\n",
    "print('X1 coef: {:0.2f}, Pval: {:0.2f}'.format(m524res.params['X1'], m524res.pvalues['X1']))\n",
    "print('X2 coef: {:0.2f}, Pval: {:0.2f}'.format(m524res.params['X2'], m524res.pvalues['X2']))"
   ]
  },
  {
   "cell_type": "markdown",
   "metadata": {},
   "source": [
    "### 5M4.\n",
    "Moromon population as predictor for divorce rate."
   ]
  },
  {
   "cell_type": "code",
   "execution_count": 13,
   "metadata": {},
   "outputs": [
    {
     "data": {
      "text/html": [
       "<div>\n",
       "<style scoped>\n",
       "    .dataframe tbody tr th:only-of-type {\n",
       "        vertical-align: middle;\n",
       "    }\n",
       "\n",
       "    .dataframe tbody tr th {\n",
       "        vertical-align: top;\n",
       "    }\n",
       "\n",
       "    .dataframe thead th {\n",
       "        text-align: right;\n",
       "    }\n",
       "</style>\n",
       "<table border=\"1\" class=\"dataframe\">\n",
       "  <thead>\n",
       "    <tr style=\"text-align: right;\">\n",
       "      <th></th>\n",
       "      <th>Location</th>\n",
       "      <th>Loc</th>\n",
       "      <th>Population</th>\n",
       "      <th>MedianAgeMarriage</th>\n",
       "      <th>Marriage</th>\n",
       "      <th>Marriage SE</th>\n",
       "      <th>Divorce</th>\n",
       "      <th>Divorce SE</th>\n",
       "      <th>WaffleHouses</th>\n",
       "      <th>South</th>\n",
       "      <th>Slaves1860</th>\n",
       "      <th>Population1860</th>\n",
       "      <th>PropSlaves1860</th>\n",
       "    </tr>\n",
       "  </thead>\n",
       "  <tbody>\n",
       "    <tr>\n",
       "      <th>0</th>\n",
       "      <td>Alabama</td>\n",
       "      <td>AL</td>\n",
       "      <td>4.78</td>\n",
       "      <td>25.3</td>\n",
       "      <td>20.2</td>\n",
       "      <td>1.27</td>\n",
       "      <td>12.7</td>\n",
       "      <td>0.79</td>\n",
       "      <td>128</td>\n",
       "      <td>1</td>\n",
       "      <td>435080</td>\n",
       "      <td>964201</td>\n",
       "      <td>0.45</td>\n",
       "    </tr>\n",
       "    <tr>\n",
       "      <th>1</th>\n",
       "      <td>Alaska</td>\n",
       "      <td>AK</td>\n",
       "      <td>0.71</td>\n",
       "      <td>25.2</td>\n",
       "      <td>26.0</td>\n",
       "      <td>2.93</td>\n",
       "      <td>12.5</td>\n",
       "      <td>2.05</td>\n",
       "      <td>0</td>\n",
       "      <td>0</td>\n",
       "      <td>0</td>\n",
       "      <td>0</td>\n",
       "      <td>0.00</td>\n",
       "    </tr>\n",
       "    <tr>\n",
       "      <th>2</th>\n",
       "      <td>Arizona</td>\n",
       "      <td>AZ</td>\n",
       "      <td>6.33</td>\n",
       "      <td>25.8</td>\n",
       "      <td>20.3</td>\n",
       "      <td>0.98</td>\n",
       "      <td>10.8</td>\n",
       "      <td>0.74</td>\n",
       "      <td>18</td>\n",
       "      <td>0</td>\n",
       "      <td>0</td>\n",
       "      <td>0</td>\n",
       "      <td>0.00</td>\n",
       "    </tr>\n",
       "    <tr>\n",
       "      <th>3</th>\n",
       "      <td>Arkansas</td>\n",
       "      <td>AR</td>\n",
       "      <td>2.92</td>\n",
       "      <td>24.3</td>\n",
       "      <td>26.4</td>\n",
       "      <td>1.70</td>\n",
       "      <td>13.5</td>\n",
       "      <td>1.22</td>\n",
       "      <td>41</td>\n",
       "      <td>1</td>\n",
       "      <td>111115</td>\n",
       "      <td>435450</td>\n",
       "      <td>0.26</td>\n",
       "    </tr>\n",
       "    <tr>\n",
       "      <th>4</th>\n",
       "      <td>California</td>\n",
       "      <td>CA</td>\n",
       "      <td>37.25</td>\n",
       "      <td>26.8</td>\n",
       "      <td>19.1</td>\n",
       "      <td>0.39</td>\n",
       "      <td>8.0</td>\n",
       "      <td>0.24</td>\n",
       "      <td>0</td>\n",
       "      <td>0</td>\n",
       "      <td>0</td>\n",
       "      <td>379994</td>\n",
       "      <td>0.00</td>\n",
       "    </tr>\n",
       "  </tbody>\n",
       "</table>\n",
       "</div>"
      ],
      "text/plain": [
       "     Location Loc  Population  MedianAgeMarriage  Marriage  Marriage SE  \\\n",
       "0     Alabama  AL        4.78               25.3      20.2         1.27   \n",
       "1      Alaska  AK        0.71               25.2      26.0         2.93   \n",
       "2     Arizona  AZ        6.33               25.8      20.3         0.98   \n",
       "3    Arkansas  AR        2.92               24.3      26.4         1.70   \n",
       "4  California  CA       37.25               26.8      19.1         0.39   \n",
       "\n",
       "   Divorce  Divorce SE  WaffleHouses  South  Slaves1860  Population1860  \\\n",
       "0     12.7        0.79           128      1      435080          964201   \n",
       "1     12.5        2.05             0      0           0               0   \n",
       "2     10.8        0.74            18      0           0               0   \n",
       "3     13.5        1.22            41      1      111115          435450   \n",
       "4      8.0        0.24             0      0           0          379994   \n",
       "\n",
       "   PropSlaves1860  \n",
       "0            0.45  \n",
       "1            0.00  \n",
       "2            0.00  \n",
       "3            0.26  \n",
       "4            0.00  "
      ]
     },
     "execution_count": 13,
     "metadata": {},
     "output_type": "execute_result"
    }
   ],
   "source": [
    "# grab the divorce rate from the \"rethinking\" github\n",
    "#https://github.com/rmcelreath/rethinking\n",
    "divorce = pd.read_csv('https://raw.githubusercontent.com/rmcelreath/rethinking/master/data/WaffleDivorce.csv', delimiter=';')\n",
    "divorce.head()"
   ]
  },
  {
   "cell_type": "code",
   "execution_count": 14,
   "metadata": {},
   "outputs": [
    {
     "data": {
      "text/html": [
       "<div>\n",
       "<style scoped>\n",
       "    .dataframe tbody tr th:only-of-type {\n",
       "        vertical-align: middle;\n",
       "    }\n",
       "\n",
       "    .dataframe tbody tr th {\n",
       "        vertical-align: top;\n",
       "    }\n",
       "\n",
       "    .dataframe thead th {\n",
       "        text-align: right;\n",
       "    }\n",
       "</style>\n",
       "<table border=\"1\" class=\"dataframe\">\n",
       "  <thead>\n",
       "    <tr style=\"text-align: right;\">\n",
       "      <th></th>\n",
       "      <th>Location</th>\n",
       "      <th>LDS</th>\n",
       "      <th>LDS_pct</th>\n",
       "    </tr>\n",
       "  </thead>\n",
       "  <tbody>\n",
       "    <tr>\n",
       "      <th>0</th>\n",
       "      <td>Alabama</td>\n",
       "      <td>0.77%</td>\n",
       "      <td>0.770020</td>\n",
       "    </tr>\n",
       "    <tr>\n",
       "      <th>1</th>\n",
       "      <td>Alaska</td>\n",
       "      <td>4.56%</td>\n",
       "      <td>4.558594</td>\n",
       "    </tr>\n",
       "    <tr>\n",
       "      <th>2</th>\n",
       "      <td>Arizona</td>\n",
       "      <td>6.10%</td>\n",
       "      <td>6.101562</td>\n",
       "    </tr>\n",
       "    <tr>\n",
       "      <th>3</th>\n",
       "      <td>Arkansas</td>\n",
       "      <td>1.03%</td>\n",
       "      <td>1.030273</td>\n",
       "    </tr>\n",
       "    <tr>\n",
       "      <th>4</th>\n",
       "      <td>California</td>\n",
       "      <td>1.97%</td>\n",
       "      <td>1.969727</td>\n",
       "    </tr>\n",
       "  </tbody>\n",
       "</table>\n",
       "</div>"
      ],
      "text/plain": [
       "     Location    LDS   LDS_pct\n",
       "0     Alabama  0.77%  0.770020\n",
       "1      Alaska  4.56%  4.558594\n",
       "2     Arizona  6.10%  6.101562\n",
       "3    Arkansas  1.03%  1.030273\n",
       "4  California  1.97%  1.969727"
      ]
     },
     "execution_count": 14,
     "metadata": {},
     "output_type": "execute_result"
    }
   ],
   "source": [
    "# get the mormon population from Wikipedia\n",
    "from pandas.io.html import read_html\n",
    "page = 'https://en.wikipedia.org/wiki/The_Church_of_Jesus_Christ_of_Latter-day_Saints_membership_statistics_(United_States)'\n",
    "wikitables = read_html(page, index_col=None, header=0, attrs={\"class\":\"wikitable\"})\n",
    "wiki_lds = wikitables[0].loc[:,['State', 'LDS']] # select only these columns\n",
    "\n",
    "wiki_lds['LDS_pct'] = wiki_lds['LDS'].str.replace('%', '')\n",
    "wiki_lds['LDS_pct'] = wiki_lds['LDS_pct'].astype(np.float16)\n",
    "\n",
    "# rename 'State' to 'Location' so that the merge operation \n",
    "# doesn't duplicates columns.\n",
    "wiki_lds.rename(columns={'State': 'Location'}, inplace=True)\n",
    "wiki_lds.head()"
   ]
  },
  {
   "cell_type": "code",
   "execution_count": 15,
   "metadata": {},
   "outputs": [],
   "source": [
    "# Merge in to `divorce` data from wikipedia\n",
    "divorce2 = pd.merge(divorce, wiki_lds, on='Location')\n",
    "\n",
    "# rename columns with spaces. Statsmodels doesn't like that.\n",
    "divorce2.rename(columns={'Divorce SE': 'Divorce_SE', 'Marriage SE': 'Marriage_SE'}, inplace=True)"
   ]
  },
  {
   "cell_type": "markdown",
   "metadata": {},
   "source": [
    "Now, let's make a model to predict divorce rate based on: (1) marriage rate (2) median age at marriage, and (3) percent LDS population. Actually we'll make two models, the first without population precent of LDS and then with: "
   ]
  },
  {
   "cell_type": "code",
   "execution_count": 16,
   "metadata": {},
   "outputs": [
    {
     "data": {
      "text/html": [
       "<table class=\"simpletable\">\n",
       "<tr>\n",
       "        <td>Model:</td>               <td>OLS</td>         <td>Adj. R-squared:</td>     <td>0.336</td> \n",
       "</tr>\n",
       "<tr>\n",
       "  <td>Dependent Variable:</td>      <td>Divorce</td>            <td>AIC:</td>         <td>184.2276</td>\n",
       "</tr>\n",
       "<tr>\n",
       "         <td>Date:</td>        <td>2017-11-29 11:37</td>        <td>BIC:</td>         <td>189.9637</td>\n",
       "</tr>\n",
       "<tr>\n",
       "   <td>No. Observations:</td>         <td>50</td>          <td>Log-Likelihood:</td>    <td>-89.114</td>\n",
       "</tr>\n",
       "<tr>\n",
       "       <td>Df Model:</td>              <td>2</td>           <td>F-statistic:</td>       <td>13.42</td> \n",
       "</tr>\n",
       "<tr>\n",
       "     <td>Df Residuals:</td>           <td>47</td>        <td>Prob (F-statistic):</td> <td>2.46e-05</td>\n",
       "</tr>\n",
       "<tr>\n",
       "      <td>R-squared:</td>            <td>0.363</td>            <td>Scale:</td>         <td>2.2002</td> \n",
       "</tr>\n",
       "</table>\n",
       "<table class=\"simpletable\">\n",
       "<tr>\n",
       "                 <td></td>                 <th>Coef.</th>  <th>Std.Err.</th>    <th>t</th>     <th>P>|t|</th> <th>[0.025</th>  <th>0.975]</th> \n",
       "</tr>\n",
       "<tr>\n",
       "  <th>Intercept</th>                      <td>9.6880</td>   <td>0.2098</td>  <td>46.1836</td> <td>0.0000</td> <td>9.2660</td>  <td>10.1100</td>\n",
       "</tr>\n",
       "<tr>\n",
       "  <th>standardize(Marriage)</th>          <td>-0.2138</td>  <td>0.3028</td>  <td>-0.7061</td> <td>0.4836</td> <td>-0.8229</td> <td>0.3953</td> \n",
       "</tr>\n",
       "<tr>\n",
       "  <th>standardize(MedianAgeMarriage)</th> <td>-1.2307</td>  <td>0.3028</td>  <td>-4.0648</td> <td>0.0002</td> <td>-1.8398</td> <td>-0.6216</td>\n",
       "</tr>\n",
       "</table>\n",
       "<table class=\"simpletable\">\n",
       "<tr>\n",
       "     <td>Omnibus:</td>     <td>2.545</td>  <td>Durbin-Watson:</td>   <td>1.903</td>\n",
       "</tr>\n",
       "<tr>\n",
       "  <td>Prob(Omnibus):</td>  <td>0.280</td> <td>Jarque-Bera (JB):</td> <td>1.595</td>\n",
       "</tr>\n",
       "<tr>\n",
       "       <td>Skew:</td>     <td>-0.301</td>     <td>Prob(JB):</td>     <td>0.450</td>\n",
       "</tr>\n",
       "<tr>\n",
       "     <td>Kurtosis:</td>    <td>3.635</td>  <td>Condition No.:</td>     <td>2</td>  \n",
       "</tr>\n",
       "</table>"
      ],
      "text/plain": [
       "<class 'statsmodels.iolib.summary2.Summary'>\n",
       "\"\"\"\n",
       "                       Results: Ordinary least squares\n",
       "==============================================================================\n",
       "Model:                   OLS                  Adj. R-squared:         0.336   \n",
       "Dependent Variable:      Divorce              AIC:                    184.2276\n",
       "Date:                    2017-11-29 11:37     BIC:                    189.9637\n",
       "No. Observations:        50                   Log-Likelihood:         -89.114 \n",
       "Df Model:                2                    F-statistic:            13.42   \n",
       "Df Residuals:            47                   Prob (F-statistic):     2.46e-05\n",
       "R-squared:               0.363                Scale:                  2.2002  \n",
       "------------------------------------------------------------------------------\n",
       "                                Coef.  Std.Err.    t    P>|t|   [0.025  0.975]\n",
       "------------------------------------------------------------------------------\n",
       "Intercept                       9.6880   0.2098 46.1836 0.0000  9.2660 10.1100\n",
       "standardize(Marriage)          -0.2138   0.3028 -0.7061 0.4836 -0.8229  0.3953\n",
       "standardize(MedianAgeMarriage) -1.2307   0.3028 -4.0648 0.0002 -1.8398 -0.6216\n",
       "------------------------------------------------------------------------------\n",
       "Omnibus:                  2.545             Durbin-Watson:               1.903\n",
       "Prob(Omnibus):            0.280             Jarque-Bera (JB):            1.595\n",
       "Skew:                     -0.301            Prob(JB):                    0.450\n",
       "Kurtosis:                 3.635             Condition No.:               2    \n",
       "==============================================================================\n",
       "\n",
       "\"\"\""
      ]
     },
     "execution_count": 16,
     "metadata": {},
     "output_type": "execute_result"
    }
   ],
   "source": [
    "m541 = sm.OLS.from_formula('Divorce ~ standardize(Marriage) + standardize(MedianAgeMarriage)', data=divorce2)\n",
    "m541res = m541.fit()\n",
    "m541res.summary2()"
   ]
  },
  {
   "cell_type": "code",
   "execution_count": 17,
   "metadata": {},
   "outputs": [
    {
     "data": {
      "text/html": [
       "<table class=\"simpletable\">\n",
       "<tr>\n",
       "        <td>Model:</td>               <td>OLS</td>         <td>Adj. R-squared:</td>     <td>0.412</td> \n",
       "</tr>\n",
       "<tr>\n",
       "  <td>Dependent Variable:</td>      <td>Divorce</td>            <td>AIC:</td>         <td>179.1049</td>\n",
       "</tr>\n",
       "<tr>\n",
       "         <td>Date:</td>        <td>2017-11-29 11:37</td>        <td>BIC:</td>         <td>186.7530</td>\n",
       "</tr>\n",
       "<tr>\n",
       "   <td>No. Observations:</td>         <td>50</td>          <td>Log-Likelihood:</td>    <td>-85.552</td>\n",
       "</tr>\n",
       "<tr>\n",
       "       <td>Df Model:</td>              <td>3</td>           <td>F-statistic:</td>       <td>12.44</td> \n",
       "</tr>\n",
       "<tr>\n",
       "     <td>Df Residuals:</td>           <td>46</td>        <td>Prob (F-statistic):</td> <td>4.38e-06</td>\n",
       "</tr>\n",
       "<tr>\n",
       "      <td>R-squared:</td>            <td>0.448</td>            <td>Scale:</td>         <td>1.9496</td> \n",
       "</tr>\n",
       "</table>\n",
       "<table class=\"simpletable\">\n",
       "<tr>\n",
       "                 <td></td>                 <th>Coef.</th>  <th>Std.Err.</th>    <th>t</th>     <th>P>|t|</th> <th>[0.025</th>  <th>0.975]</th> \n",
       "</tr>\n",
       "<tr>\n",
       "  <th>Intercept</th>                      <td>9.6880</td>   <td>0.1975</td>  <td>49.0626</td> <td>0.0000</td> <td>9.2905</td>  <td>10.0855</td>\n",
       "</tr>\n",
       "<tr>\n",
       "  <th>standardize(Marriage)</th>          <td>0.0076</td>   <td>0.2970</td>  <td>0.0258</td>  <td>0.9796</td> <td>-0.5901</td> <td>0.6054</td> \n",
       "</tr>\n",
       "<tr>\n",
       "  <th>standardize(MedianAgeMarriage)</th> <td>-1.3631</td>  <td>0.2893</td>  <td>-4.7111</td> <td>0.0000</td> <td>-1.9455</td> <td>-0.7807</td>\n",
       "</tr>\n",
       "<tr>\n",
       "  <th>standardize(LDS_pct)</th>           <td>-0.6192</td>  <td>0.2333</td>  <td>-2.6538</td> <td>0.0109</td> <td>-1.0889</td> <td>-0.1495</td>\n",
       "</tr>\n",
       "</table>\n",
       "<table class=\"simpletable\">\n",
       "<tr>\n",
       "     <td>Omnibus:</td>     <td>1.133</td>  <td>Durbin-Watson:</td>   <td>1.911</td>\n",
       "</tr>\n",
       "<tr>\n",
       "  <td>Prob(Omnibus):</td>  <td>0.567</td> <td>Jarque-Bera (JB):</td> <td>0.456</td>\n",
       "</tr>\n",
       "<tr>\n",
       "       <td>Skew:</td>     <td>-0.145</td>     <td>Prob(JB):</td>     <td>0.796</td>\n",
       "</tr>\n",
       "<tr>\n",
       "     <td>Kurtosis:</td>    <td>3.368</td>  <td>Condition No.:</td>     <td>3</td>  \n",
       "</tr>\n",
       "</table>"
      ],
      "text/plain": [
       "<class 'statsmodels.iolib.summary2.Summary'>\n",
       "\"\"\"\n",
       "                       Results: Ordinary least squares\n",
       "==============================================================================\n",
       "Model:                   OLS                  Adj. R-squared:         0.412   \n",
       "Dependent Variable:      Divorce              AIC:                    179.1049\n",
       "Date:                    2017-11-29 11:37     BIC:                    186.7530\n",
       "No. Observations:        50                   Log-Likelihood:         -85.552 \n",
       "Df Model:                3                    F-statistic:            12.44   \n",
       "Df Residuals:            46                   Prob (F-statistic):     4.38e-06\n",
       "R-squared:               0.448                Scale:                  1.9496  \n",
       "------------------------------------------------------------------------------\n",
       "                                Coef.  Std.Err.    t    P>|t|   [0.025  0.975]\n",
       "------------------------------------------------------------------------------\n",
       "Intercept                       9.6880   0.1975 49.0626 0.0000  9.2905 10.0855\n",
       "standardize(Marriage)           0.0076   0.2970  0.0258 0.9796 -0.5901  0.6054\n",
       "standardize(MedianAgeMarriage) -1.3631   0.2893 -4.7111 0.0000 -1.9455 -0.7807\n",
       "standardize(LDS_pct)           -0.6192   0.2333 -2.6538 0.0109 -1.0889 -0.1495\n",
       "------------------------------------------------------------------------------\n",
       "Omnibus:                  1.133             Durbin-Watson:               1.911\n",
       "Prob(Omnibus):            0.567             Jarque-Bera (JB):            0.456\n",
       "Skew:                     -0.145            Prob(JB):                    0.796\n",
       "Kurtosis:                 3.368             Condition No.:               3    \n",
       "==============================================================================\n",
       "\n",
       "\"\"\""
      ]
     },
     "execution_count": 17,
     "metadata": {},
     "output_type": "execute_result"
    }
   ],
   "source": [
    "m542 = sm.OLS.from_formula('Divorce ~  standardize(Marriage) + standardize(MedianAgeMarriage) + standardize(LDS_pct)', data=divorce2)\n",
    "m542res = m542.fit()\n",
    "m542res.summary2()"
   ]
  },
  {
   "cell_type": "markdown",
   "metadata": {
    "collapsed": true
   },
   "source": [
    "We can see, that adding `LDS_pct` as predicting variable increases the coefficient of `MedianAgeMarriage` from -1.24 to -1.38, the coefficient of `Marriage` is now even closer to 0. `LDS_pct` is found the be quite significant with pvalue < 0.011.\n"
   ]
  },
  {
   "cell_type": "markdown",
   "metadata": {},
   "source": [
    "Let's go full bayesian:"
   ]
  },
  {
   "cell_type": "code",
   "execution_count": 18,
   "metadata": {},
   "outputs": [
    {
     "name": "stderr",
     "output_type": "stream",
     "text": [
      "Auto-assigning NUTS sampler...\n",
      "Initializing NUTS using jitter+adapt_diag...\n",
      "WARNING (theano.tensor.blas): We did not find a dynamic library in the library_dir of the library we use for blas. If you use ATLAS, make sure to compile it with dynamics library.\n",
      "100%|██████████| 2000/2000 [00:04<00:00, 476.72it/s]\n"
     ]
    }
   ],
   "source": [
    "modMC541 = pm.Model()\n",
    "\n",
    "with modMC541:\n",
    "\n",
    "    pm.glm.GLM.from_formula('Divorce ~  standardize(Marriage) + \\\n",
    "                            standardize(MedianAgeMarriage) + \\\n",
    "                            standardize(LDS_pct)', divorce2)\n",
    "\n",
    "    trace_modMC541 = pm.sample(1000, tune=1000)"
   ]
  },
  {
   "cell_type": "code",
   "execution_count": 19,
   "metadata": {},
   "outputs": [
    {
     "data": {
      "image/png": "[encoded data removed]",
      "text/plain": [
       "<matplotlib.figure.Figure at 0x7fe536b7c6d8>"
      ]
     },
     "metadata": {},
     "output_type": "display_data"
    }
   ],
   "source": [
    "pm.traceplot(trace_modMC541);"
   ]
  },
  {
   "cell_type": "code",
   "execution_count": 20,
   "metadata": {},
   "outputs": [
    {
     "name": "stdout",
     "output_type": "stream",
     "text": [
      "\n",
      "Intercept:\n",
      "\n",
      "  Mean             SD               MC Error         95% HPD interval\n",
      "  -------------------------------------------------------------------\n",
      "  \n",
      "  9.688            0.206            0.007            [9.306, 10.121]\n",
      "\n",
      "  Posterior quantiles:\n",
      "  2.5            25             50             75             97.5\n",
      "  |--------------|==============|==============|--------------|\n",
      "  \n",
      "  9.295          9.550          9.690          9.825          10.114\n",
      "\n",
      "\n",
      "standardize(Marriage):\n",
      "\n",
      "  Mean             SD               MC Error         95% HPD interval\n",
      "  -------------------------------------------------------------------\n",
      "  \n",
      "  0.017            0.315            0.009            [-0.597, 0.632]\n",
      "\n",
      "  Posterior quantiles:\n",
      "  2.5            25             50             75             97.5\n",
      "  |--------------|==============|==============|--------------|\n",
      "  \n",
      "  -0.588         -0.208         0.028          0.224          0.651\n",
      "\n",
      "\n",
      "standardize(MedianAgeMarriage):\n",
      "\n",
      "  Mean             SD               MC Error         95% HPD interval\n",
      "  -------------------------------------------------------------------\n",
      "  \n",
      "  -1.357           0.293            0.010            [-1.963, -0.778]\n",
      "\n",
      "  Posterior quantiles:\n",
      "  2.5            25             50             75             97.5\n",
      "  |--------------|==============|==============|--------------|\n",
      "  \n",
      "  -1.946         -1.557         -1.349         -1.154         -0.743\n",
      "\n",
      "\n",
      "standardize(LDS_pct):\n",
      "\n",
      "  Mean             SD               MC Error         95% HPD interval\n",
      "  -------------------------------------------------------------------\n",
      "  \n",
      "  -0.623           0.252            0.007            [-1.120, -0.150]\n",
      "\n",
      "  Posterior quantiles:\n",
      "  2.5            25             50             75             97.5\n",
      "  |--------------|==============|==============|--------------|\n",
      "  \n",
      "  -1.104         -0.793         -0.629         -0.452         -0.129\n",
      "\n",
      "\n",
      "sd:\n",
      "\n",
      "  Mean             SD               MC Error         95% HPD interval\n",
      "  -------------------------------------------------------------------\n",
      "  \n",
      "  1.442            0.158            0.005            [1.158, 1.771]\n",
      "\n",
      "  Posterior quantiles:\n",
      "  2.5            25             50             75             97.5\n",
      "  |--------------|==============|==============|--------------|\n",
      "  \n",
      "  1.173          1.337          1.420          1.536          1.808\n",
      "\n"
     ]
    }
   ],
   "source": [
    "pm.summary(trace_modMC541)"
   ]
  },
  {
   "cell_type": "markdown",
   "metadata": {},
   "source": [
    "The MCMC results are in agreement with the conventional analysis.\n",
    "#### Conclusion\n",
    "Accounting for the precentage of mormons in the population, shows that it's ignificant and negativly associated with devorce rate. Also, it appears that it's associated with the Median Age Marriage, and both are significant predictors of divorce rate."
   ]
  },
  {
   "cell_type": "markdown",
   "metadata": {},
   "source": [
    "### 5M5."
   ]
  },
  {
   "cell_type": "markdown",
   "metadata": {
    "collapsed": true
   },
   "source": [
    "To explain the observation that increased gasoline prices are linked to reduced  obesity, two mechanisms are suggested:\n",
    "\n",
    "- increased prices -> less driving -> more exercise -> less obesity.\n",
    "- increased prices -> less driving -> less huge resaruant meals -> less obesity.\n",
    "\n",
    "To figure out which machanism is required, we would need to followind data:\n",
    "\n",
    "* Gasoline prices.\n",
    "* Average (median?) driving distance.\n",
    "* Average (median?) walking distance.\n",
    "* Num. of restarunt meals.\n",
    "* %obesity.\n",
    "\n",
    "First, we'll have to see whether ave. driving distance is proportional to gasoline prices. Hopfully this will result in some linear relationship. \n",
    "\n",
    "Second, we'll make the following linear regression models:\n",
    "1. obesity ~ walking (negative slope).\n",
    "2. obesity ~ resaruant meals (positive slope).\n",
    "\n",
    "Since obesity is linked to both ave. walking distance and resaruant meals by positive and negative slopes, and by themselves walking and resaruant are proportional to gasoline prices, this is potentially a masked relationship situation. We can check then by making the following model:\n",
    "\n",
    "3. obesity ~ walking + resaruant meals.\n",
    "\n",
    "The coefficents (slopes) for both explenatory variables should increase in their absolute size."
   ]
  },
  {
   "cell_type": "markdown",
   "metadata": {},
   "source": [
    "## Hard"
   ]
  },
  {
   "cell_type": "code",
   "execution_count": 21,
   "metadata": {},
   "outputs": [
    {
     "data": {
      "text/html": [
       "<div>\n",
       "<style scoped>\n",
       "    .dataframe tbody tr th:only-of-type {\n",
       "        vertical-align: middle;\n",
       "    }\n",
       "\n",
       "    .dataframe tbody tr th {\n",
       "        vertical-align: top;\n",
       "    }\n",
       "\n",
       "    .dataframe thead th {\n",
       "        text-align: right;\n",
       "    }\n",
       "</style>\n",
       "<table border=\"1\" class=\"dataframe\">\n",
       "  <thead>\n",
       "    <tr style=\"text-align: right;\">\n",
       "      <th></th>\n",
       "      <th>group</th>\n",
       "      <th>avgfood</th>\n",
       "      <th>groupsize</th>\n",
       "      <th>area</th>\n",
       "      <th>weight</th>\n",
       "    </tr>\n",
       "  </thead>\n",
       "  <tbody>\n",
       "    <tr>\n",
       "      <th>0</th>\n",
       "      <td>1</td>\n",
       "      <td>0.37</td>\n",
       "      <td>2</td>\n",
       "      <td>1.09</td>\n",
       "      <td>5.02</td>\n",
       "    </tr>\n",
       "    <tr>\n",
       "      <th>1</th>\n",
       "      <td>1</td>\n",
       "      <td>0.37</td>\n",
       "      <td>2</td>\n",
       "      <td>1.09</td>\n",
       "      <td>2.84</td>\n",
       "    </tr>\n",
       "  </tbody>\n",
       "</table>\n",
       "</div>"
      ],
      "text/plain": [
       "   group  avgfood  groupsize  area  weight\n",
       "0      1     0.37          2  1.09    5.02\n",
       "1      1     0.37          2  1.09    2.84"
      ]
     },
     "execution_count": 21,
     "metadata": {},
     "output_type": "execute_result"
    }
   ],
   "source": [
    "# grab the \"foxes\" data from the \"rethinking\" github\n",
    "#https://github.com/rmcelreath/rethinking\n",
    "foxes = pd.read_csv('https://raw.githubusercontent.com/rmcelreath/rethinking/master/data/foxes.csv', delimiter=';')\n",
    "foxes.head(2)"
   ]
  },
  {
   "cell_type": "code",
   "execution_count": 22,
   "metadata": {},
   "outputs": [
    {
     "name": "stdout",
     "output_type": "stream",
     "text": [
      "<class 'pandas.core.frame.DataFrame'>\n",
      "RangeIndex: 116 entries, 0 to 115\n",
      "Data columns (total 5 columns):\n",
      "group        116 non-null int64\n",
      "avgfood      116 non-null float64\n",
      "groupsize    116 non-null int64\n",
      "area         116 non-null float64\n",
      "weight       116 non-null float64\n",
      "dtypes: float64(3), int64(2)\n",
      "memory usage: 4.6 KB\n"
     ]
    }
   ],
   "source": [
    "foxes.info()"
   ]
  },
  {
   "cell_type": "markdown",
   "metadata": {},
   "source": [
    "### 5H1.\n",
    "Bivariate regression - body weight as a linear function of territory size (area):"
   ]
  },
  {
   "cell_type": "code",
   "execution_count": 23,
   "metadata": {},
   "outputs": [
    {
     "name": "stderr",
     "output_type": "stream",
     "text": [
      "Auto-assigning NUTS sampler...\n",
      "Initializing NUTS using jitter+adapt_diag...\n",
      "100%|██████████| 2000/2000 [00:04<00:00, 476.68it/s]\n"
     ]
    }
   ],
   "source": [
    "modMC5H11 = pm.Model()\n",
    "with modMC5H11:\n",
    "    pm.glm.GLM.from_formula('weight ~ area', foxes)\n",
    "    trace_MC5H11 = pm.sample(1000, tune=1000)"
   ]
  },
  {
   "cell_type": "markdown",
   "metadata": {},
   "source": [
    "I'm not plotting the traceplot since it takes a lot of space. It's fine - take it from me."
   ]
  },
  {
   "cell_type": "code",
   "execution_count": 24,
   "metadata": {},
   "outputs": [
    {
     "data": {
      "image/png": "[encoded data removed]",
      "text/plain": [
       "<matplotlib.figure.Figure at 0x7fe529f7d390>"
      ]
     },
     "metadata": {},
     "output_type": "display_data"
    }
   ],
   "source": [
    "pm.forestplot(trace_MC5H11);"
   ]
  },
  {
   "cell_type": "markdown",
   "metadata": {},
   "source": [
    "It appears that the `area` variable has little meaning and is probably not important. Let's plot predictions of the model:"
   ]
  },
  {
   "cell_type": "code",
   "execution_count": 26,
   "metadata": {},
   "outputs": [
    {
     "name": "stderr",
     "output_type": "stream",
     "text": [
      "100%|██████████| 1000/1000 [00:00<00:00, 2663.43it/s]\n"
     ]
    }
   ],
   "source": [
    "postr_predic = pm.sample_ppc(trace=trace_MC5H11, model=modMC5H11, samples=1000)\n",
    "\n",
    "pred_df_5H11 = pd.DataFrame(data = pm.hpd(postr_predic['y'], alpha=0.05), columns=['l_conf', 'h_conf'])\n",
    "pred_df_5H11['weight'] = postr_predic['y'].mean(axis=0)\n",
    "pred_df_5H11['area'] = foxes['area']"
   ]
  },
  {
   "cell_type": "code",
   "execution_count": 27,
   "metadata": {},
   "outputs": [
    {
     "data": {
      "image/png": "[encoded data removed]",
      "text/plain": [
       "<matplotlib.figure.Figure at 0x7fe52a2d8748>"
      ]
     },
     "metadata": {},
     "output_type": "display_data"
    }
   ],
   "source": [
    "fig, ax = plt.subplots()\n",
    "sns.regplot(foxes['area'], foxes['weight'], fit_reg=False, ax=ax, label='obsereved')\n",
    "sns.regplot('area', 'weight', data=pred_df_5H11, fit_reg=True, ax=ax, label='prediction', scatter=False)\n",
    "\n",
    "# to make the \"fill_between\" work - this must be sorted\n",
    "idx = np.argsort(pred_df_5H11['area'])                 \n",
    "plt.fill_between(pred_df_5H11['area'][idx], pred_df_5H11['l_conf'][idx], pred_df_5H11['h_conf'][idx], \n",
    "                 color='C2', alpha=0.2, interpolate=True, label='89% confidence')\n",
    "\n",
    "plt.ylabel('Weight')\n",
    "plt.xlabel('Area')\n",
    "plt.legend(bbox_to_anchor=(1.05, 1), loc=2, borderaxespad=0.);"
   ]
  },
  {
   "cell_type": "markdown",
   "metadata": {},
   "source": [
    "body weight as a linear function of groupsize"
   ]
  },
  {
   "cell_type": "code",
   "execution_count": 28,
   "metadata": {},
   "outputs": [
    {
     "name": "stderr",
     "output_type": "stream",
     "text": [
      "Auto-assigning NUTS sampler...\n",
      "Initializing NUTS using jitter+adapt_diag...\n",
      "100%|██████████| 2000/2000 [00:03<00:00, 507.62it/s]\n"
     ]
    }
   ],
   "source": [
    "# the sorting is important for the \"fill between\" plot.\n",
    "foxes.sort_values(by='groupsize', ascending=True, inplace=True)\n",
    "\n",
    "modMC5H12 = pm.Model()\n",
    "with modMC5H12:\n",
    "    pm.glm.GLM.from_formula('weight ~ groupsize', foxes)\n",
    "    trace_MC5H12 = pm.sample(1000, tune=1000)"
   ]
  },
  {
   "cell_type": "code",
   "execution_count": 29,
   "metadata": {},
   "outputs": [
    {
     "data": {
      "image/png": "[encoded data removed]",
      "text/plain": [
       "<matplotlib.figure.Figure at 0x7fe52b443a58>"
      ]
     },
     "metadata": {},
     "output_type": "display_data"
    }
   ],
   "source": [
    "pm.forestplot(trace_MC5H12);"
   ]
  },
  {
   "cell_type": "code",
   "execution_count": 31,
   "metadata": {},
   "outputs": [
    {
     "name": "stderr",
     "output_type": "stream",
     "text": [
      "100%|██████████| 1000/1000 [00:00<00:00, 2791.42it/s]\n"
     ]
    }
   ],
   "source": [
    "postr_predic = pm.sample_ppc(trace=trace_MC5H12, model=modMC5H12, samples=1000)\n",
    "\n",
    "pred_df_5H12 = pd.DataFrame(data = pm.hpd(postr_predic['y'], alpha=0.05), columns=['l_conf', 'h_conf'])\n",
    "pred_df_5H12['weight'] = postr_predic['y'].mean(axis=0)\n",
    "pred_df_5H12['groupsize'] = foxes['groupsize']"
   ]
  },
  {
   "cell_type": "code",
   "execution_count": 32,
   "metadata": {},
   "outputs": [
    {
     "data": {
      "image/png": "[encoded data removed]",
      "text/plain": [
       "<matplotlib.figure.Figure at 0x7fe53f2cd5c0>"
      ]
     },
     "metadata": {},
     "output_type": "display_data"
    }
   ],
   "source": [
    "fig, ax = plt.subplots()\n",
    "sns.regplot(foxes['groupsize'], foxes['weight'], fit_reg=False, ax=ax, label='obsereved')\n",
    "sns.regplot('groupsize', 'weight', data=pred_df_5H12, fit_reg=True, ax=ax, label='prediction', scatter=False)\n",
    "\n",
    "# to make the \"fill_between\" work - this must be sorted\n",
    "idx = np.argsort(pred_df_5H12['groupsize']) \n",
    "plt.fill_between(pred_df_5H12['groupsize'][idx], pred_df_5H12['l_conf'][idx], pred_df_5H12['h_conf'][idx], \n",
    "                 color='C2', alpha=0.2, interpolate=True, label='89% confidence')\n",
    "\n",
    "plt.ylabel('Weight (kg)')\n",
    "plt.xlabel('groupsize')\n",
    "plt.legend(bbox_to_anchor=(1.05, 1), loc=2, borderaxespad=0.);"
   ]
  },
  {
   "cell_type": "markdown",
   "metadata": {},
   "source": [
    "Conclusion: Both predictors `groupsize` and `area` are not very good at predicting weight - the means are very close to zero, altough `groupsize` is a little better."
   ]
  },
  {
   "cell_type": "markdown",
   "metadata": {},
   "source": [
    "### 5H2.\n",
    "5H2. Now fit a multiple linear regression with weight as the outcome and both area and groupsize as predictor variables. Plot the predictions of the model for each predictor, holding the other predictor constant at its mean. What does this model say about the importance of each variable? Why do you get different results than you got in the exercise just above?"
   ]
  },
  {
   "cell_type": "code",
   "execution_count": 33,
   "metadata": {},
   "outputs": [
    {
     "name": "stderr",
     "output_type": "stream",
     "text": [
      "Auto-assigning NUTS sampler...\n",
      "Initializing NUTS using jitter+adapt_diag...\n",
      "100%|██████████| 2000/2000 [00:08<00:00, 242.13it/s]\n"
     ]
    }
   ],
   "source": [
    "modMC5H2 = pm.Model()\n",
    "with modMC5H2:\n",
    "    pm.glm.GLM.from_formula('weight ~ area + groupsize', foxes)\n",
    "    trace_MC5H2 = pm.sample(1000, tune=1000)"
   ]
  },
  {
   "cell_type": "code",
   "execution_count": 34,
   "metadata": {},
   "outputs": [
    {
     "data": {
      "image/png": "[encoded data removed]",
      "text/plain": [
       "<matplotlib.figure.Figure at 0x7fe5411319e8>"
      ]
     },
     "metadata": {},
     "output_type": "display_data"
    }
   ],
   "source": [
    "pm.forestplot(trace_MC5H2);"
   ]
  },
  {
   "cell_type": "markdown",
   "metadata": {},
   "source": [
    "Unfortunatly, I must stop the practice here, because generating the plots requested in the book  is simply too time demanding. I wanted to show that the important quantitiy is not `groupsize` or `area` but the density of fox population. Locations with high concentrations of foxes (many foxes per unit of area) are expected the have lower ave. weight, becuase more foxes compete for a similar amount of food, assuming each unit of area produces an approximatly fixed amount of food. Let me show that with a simple model:   "
   ]
  },
  {
   "cell_type": "code",
   "execution_count": 35,
   "metadata": {},
   "outputs": [],
   "source": [
    "# generate the `density` predictor variable\n",
    "foxes['density'] = foxes['groupsize'] / foxes['area']"
   ]
  },
  {
   "cell_type": "code",
   "execution_count": 36,
   "metadata": {},
   "outputs": [
    {
     "name": "stderr",
     "output_type": "stream",
     "text": [
      "Auto-assigning NUTS sampler...\n",
      "Initializing NUTS using jitter+adapt_diag...\n",
      "100%|██████████| 2000/2000 [00:05<00:00, 352.30it/s]\n"
     ]
    }
   ],
   "source": [
    "modMC5H13 = pm.Model()\n",
    "with modMC5H13:\n",
    "    pm.glm.GLM.from_formula('weight ~ density', foxes)\n",
    "    trace_MC5H13 = pm.sample(1000, tune=1000)"
   ]
  },
  {
   "cell_type": "code",
   "execution_count": 37,
   "metadata": {},
   "outputs": [
    {
     "data": {
      "image/png": "[encoded data removed]",
      "text/plain": [
       "<matplotlib.figure.Figure at 0x7fe53f2abef0>"
      ]
     },
     "metadata": {},
     "output_type": "display_data"
    }
   ],
   "source": [
    "pm.forestplot(trace_MC5H13);"
   ]
  },
  {
   "cell_type": "markdown",
   "metadata": {},
   "source": [
    "It can be seen that the \"density\" is quite significant as a single predictor of fox weight."
   ]
  },
  {
   "cell_type": "markdown",
   "metadata": {},
   "source": [
    "### 5H3.\n",
    "we make the following linear models\n",
    "1. m5H31 =  `weight` ~  `avgfood` + `groupsize`\n",
    "1. m5H32 =  `weight` ~  `area` + `groupsize`\n",
    "2. m5H33 =  `weight` ~  `avgfood` + `groupsize` + `area`\n",
    "\n",
    "(a) If one compares m531 to m532 it can be seen that `avefood` is a slightly better predictor than `area`, since the related model has a slightly higher $R^2$ score. Overall, both models are not very good.\n",
    "\n",
    "(b) In m5H33 we observe a phenomenon related to dependancy between `avefood` and `area` (larger area has more food it in it) of in other words: its a spurious correlation. When both predictor variables are in included in the model, their coefficients shrink closer to zero and standard errors increase."
   ]
  },
  {
   "cell_type": "code",
   "execution_count": 38,
   "metadata": {},
   "outputs": [
    {
     "data": {
      "text/html": [
       "<table class=\"simpletable\">\n",
       "<tr>\n",
       "        <td>Model:</td>               <td>OLS</td>         <td>Adj. R-squared:</td>     <td>0.087</td> \n",
       "</tr>\n",
       "<tr>\n",
       "  <td>Dependent Variable:</td>      <td>weight</td>             <td>AIC:</td>         <td>360.7808</td>\n",
       "</tr>\n",
       "<tr>\n",
       "         <td>Date:</td>        <td>2017-11-29 11:38</td>        <td>BIC:</td>         <td>369.0416</td>\n",
       "</tr>\n",
       "<tr>\n",
       "   <td>No. Observations:</td>         <td>116</td>         <td>Log-Likelihood:</td>    <td>-177.39</td>\n",
       "</tr>\n",
       "<tr>\n",
       "       <td>Df Model:</td>              <td>2</td>           <td>F-statistic:</td>       <td>6.481</td> \n",
       "</tr>\n",
       "<tr>\n",
       "     <td>Df Residuals:</td>           <td>113</td>       <td>Prob (F-statistic):</td>  <td>0.00216</td>\n",
       "</tr>\n",
       "<tr>\n",
       "      <td>R-squared:</td>            <td>0.103</td>            <td>Scale:</td>         <td>1.2799</td> \n",
       "</tr>\n",
       "</table>\n",
       "<table class=\"simpletable\">\n",
       "<tr>\n",
       "      <td></td>       <th>Coef.</th>  <th>Std.Err.</th>    <th>t</th>     <th>P>|t|</th> <th>[0.025</th>  <th>0.975]</th> \n",
       "</tr>\n",
       "<tr>\n",
       "  <th>Intercept</th> <td>4.1232</td>   <td>0.4380</td>  <td>9.4137</td>  <td>0.0000</td> <td>3.2554</td>  <td>4.9909</td> \n",
       "</tr>\n",
       "<tr>\n",
       "  <th>avgfood</th>   <td>3.8275</td>   <td>1.2291</td>  <td>3.1142</td>  <td>0.0023</td> <td>1.3925</td>  <td>6.2626</td> \n",
       "</tr>\n",
       "<tr>\n",
       "  <th>groupsize</th> <td>-0.5687</td>  <td>0.1584</td>  <td>-3.5894</td> <td>0.0005</td> <td>-0.8825</td> <td>-0.2548</td>\n",
       "</tr>\n",
       "</table>\n",
       "<table class=\"simpletable\">\n",
       "<tr>\n",
       "     <td>Omnibus:</td>    <td>0.522</td>  <td>Durbin-Watson:</td>   <td>1.801</td>\n",
       "</tr>\n",
       "<tr>\n",
       "  <td>Prob(Omnibus):</td> <td>0.770</td> <td>Jarque-Bera (JB):</td> <td>0.229</td>\n",
       "</tr>\n",
       "<tr>\n",
       "       <td>Skew:</td>     <td>0.085</td>     <td>Prob(JB):</td>     <td>0.892</td>\n",
       "</tr>\n",
       "<tr>\n",
       "     <td>Kurtosis:</td>   <td>3.136</td>  <td>Condition No.:</td>    <td>58</td>  \n",
       "</tr>\n",
       "</table>"
      ],
      "text/plain": [
       "<class 'statsmodels.iolib.summary2.Summary'>\n",
       "\"\"\"\n",
       "                 Results: Ordinary least squares\n",
       "=================================================================\n",
       "Model:              OLS              Adj. R-squared:     0.087   \n",
       "Dependent Variable: weight           AIC:                360.7808\n",
       "Date:               2017-11-29 11:38 BIC:                369.0416\n",
       "No. Observations:   116              Log-Likelihood:     -177.39 \n",
       "Df Model:           2                F-statistic:        6.481   \n",
       "Df Residuals:       113              Prob (F-statistic): 0.00216 \n",
       "R-squared:          0.103            Scale:              1.2799  \n",
       "------------------------------------------------------------------\n",
       "               Coef.   Std.Err.     t     P>|t|    [0.025   0.975]\n",
       "------------------------------------------------------------------\n",
       "Intercept      4.1232    0.4380   9.4137  0.0000   3.2554   4.9909\n",
       "avgfood        3.8275    1.2291   3.1142  0.0023   1.3925   6.2626\n",
       "groupsize     -0.5687    0.1584  -3.5894  0.0005  -0.8825  -0.2548\n",
       "-----------------------------------------------------------------\n",
       "Omnibus:              0.522        Durbin-Watson:           1.801\n",
       "Prob(Omnibus):        0.770        Jarque-Bera (JB):        0.229\n",
       "Skew:                 0.085        Prob(JB):                0.892\n",
       "Kurtosis:             3.136        Condition No.:           58   \n",
       "=================================================================\n",
       "\n",
       "\"\"\""
      ]
     },
     "execution_count": 38,
     "metadata": {},
     "output_type": "execute_result"
    }
   ],
   "source": [
    "m5H31 = sm.OLS.from_formula('weight ~  avgfood + groupsize', data=foxes)\n",
    "m5H31res = m5H31.fit()\n",
    "m5H31res.summary2()"
   ]
  },
  {
   "cell_type": "code",
   "execution_count": 39,
   "metadata": {},
   "outputs": [
    {
     "data": {
      "text/html": [
       "<table class=\"simpletable\">\n",
       "<tr>\n",
       "        <td>Model:</td>               <td>OLS</td>         <td>Adj. R-squared:</td>     <td>0.084</td> \n",
       "</tr>\n",
       "<tr>\n",
       "  <td>Dependent Variable:</td>      <td>weight</td>             <td>AIC:</td>         <td>361.1647</td>\n",
       "</tr>\n",
       "<tr>\n",
       "         <td>Date:</td>        <td>2017-11-29 11:38</td>        <td>BIC:</td>         <td>369.4255</td>\n",
       "</tr>\n",
       "<tr>\n",
       "   <td>No. Observations:</td>         <td>116</td>         <td>Log-Likelihood:</td>    <td>-177.58</td>\n",
       "</tr>\n",
       "<tr>\n",
       "       <td>Df Model:</td>              <td>2</td>           <td>F-statistic:</td>       <td>6.273</td> \n",
       "</tr>\n",
       "<tr>\n",
       "     <td>Df Residuals:</td>           <td>113</td>       <td>Prob (F-statistic):</td>  <td>0.00261</td>\n",
       "</tr>\n",
       "<tr>\n",
       "      <td>R-squared:</td>            <td>0.100</td>            <td>Scale:</td>         <td>1.2841</td> \n",
       "</tr>\n",
       "</table>\n",
       "<table class=\"simpletable\">\n",
       "<tr>\n",
       "      <td></td>       <th>Coef.</th>  <th>Std.Err.</th>    <th>t</th>     <th>P>|t|</th> <th>[0.025</th>  <th>0.975]</th> \n",
       "</tr>\n",
       "<tr>\n",
       "  <th>Intercept</th> <td>4.4502</td>   <td>0.3758</td>  <td>11.8430</td> <td>0.0000</td> <td>3.7057</td>  <td>5.1946</td> \n",
       "</tr>\n",
       "<tr>\n",
       "  <th>area</th>      <td>0.6182</td>   <td>0.2028</td>  <td>3.0484</td>  <td>0.0029</td> <td>0.2164</td>  <td>1.0199</td> \n",
       "</tr>\n",
       "<tr>\n",
       "  <th>groupsize</th> <td>-0.4326</td>  <td>0.1224</td>  <td>-3.5354</td> <td>0.0006</td> <td>-0.6750</td> <td>-0.1902</td>\n",
       "</tr>\n",
       "</table>\n",
       "<table class=\"simpletable\">\n",
       "<tr>\n",
       "     <td>Omnibus:</td>    <td>1.393</td>  <td>Durbin-Watson:</td>   <td>1.851</td>\n",
       "</tr>\n",
       "<tr>\n",
       "  <td>Prob(Omnibus):</td> <td>0.498</td> <td>Jarque-Bera (JB):</td> <td>1.236</td>\n",
       "</tr>\n",
       "<tr>\n",
       "       <td>Skew:</td>     <td>0.252</td>     <td>Prob(JB):</td>     <td>0.539</td>\n",
       "</tr>\n",
       "<tr>\n",
       "     <td>Kurtosis:</td>   <td>2.970</td>  <td>Condition No.:</td>    <td>22</td>  \n",
       "</tr>\n",
       "</table>"
      ],
      "text/plain": [
       "<class 'statsmodels.iolib.summary2.Summary'>\n",
       "\"\"\"\n",
       "                 Results: Ordinary least squares\n",
       "=================================================================\n",
       "Model:              OLS              Adj. R-squared:     0.084   \n",
       "Dependent Variable: weight           AIC:                361.1647\n",
       "Date:               2017-11-29 11:38 BIC:                369.4255\n",
       "No. Observations:   116              Log-Likelihood:     -177.58 \n",
       "Df Model:           2                F-statistic:        6.273   \n",
       "Df Residuals:       113              Prob (F-statistic): 0.00261 \n",
       "R-squared:          0.100            Scale:              1.2841  \n",
       "------------------------------------------------------------------\n",
       "               Coef.   Std.Err.     t     P>|t|    [0.025   0.975]\n",
       "------------------------------------------------------------------\n",
       "Intercept      4.4502    0.3758  11.8430  0.0000   3.7057   5.1946\n",
       "area           0.6182    0.2028   3.0484  0.0029   0.2164   1.0199\n",
       "groupsize     -0.4326    0.1224  -3.5354  0.0006  -0.6750  -0.1902\n",
       "-----------------------------------------------------------------\n",
       "Omnibus:              1.393        Durbin-Watson:           1.851\n",
       "Prob(Omnibus):        0.498        Jarque-Bera (JB):        1.236\n",
       "Skew:                 0.252        Prob(JB):                0.539\n",
       "Kurtosis:             2.970        Condition No.:           22   \n",
       "=================================================================\n",
       "\n",
       "\"\"\""
      ]
     },
     "execution_count": 39,
     "metadata": {},
     "output_type": "execute_result"
    }
   ],
   "source": [
    "m5H32 = sm.OLS.from_formula('weight ~  area + groupsize', data=foxes)\n",
    "m5H32res = m5H32.fit()\n",
    "m5H32res.summary2()"
   ]
  },
  {
   "cell_type": "code",
   "execution_count": 40,
   "metadata": {},
   "outputs": [
    {
     "data": {
      "text/html": [
       "<table class=\"simpletable\">\n",
       "<tr>\n",
       "        <td>Model:</td>               <td>OLS</td>         <td>Adj. R-squared:</td>     <td>0.099</td> \n",
       "</tr>\n",
       "<tr>\n",
       "  <td>Dependent Variable:</td>      <td>weight</td>             <td>AIC:</td>         <td>360.2208</td>\n",
       "</tr>\n",
       "<tr>\n",
       "         <td>Date:</td>        <td>2017-11-29 11:38</td>        <td>BIC:</td>         <td>371.2351</td>\n",
       "</tr>\n",
       "<tr>\n",
       "   <td>No. Observations:</td>         <td>116</td>         <td>Log-Likelihood:</td>    <td>-176.11</td>\n",
       "</tr>\n",
       "<tr>\n",
       "       <td>Df Model:</td>              <td>3</td>           <td>F-statistic:</td>       <td>5.211</td> \n",
       "</tr>\n",
       "<tr>\n",
       "     <td>Df Residuals:</td>           <td>112</td>       <td>Prob (F-statistic):</td>  <td>0.00209</td>\n",
       "</tr>\n",
       "<tr>\n",
       "      <td>R-squared:</td>            <td>0.122</td>            <td>Scale:</td>         <td>1.2631</td> \n",
       "</tr>\n",
       "</table>\n",
       "<table class=\"simpletable\">\n",
       "<tr>\n",
       "      <td></td>       <th>Coef.</th>  <th>Std.Err.</th>    <th>t</th>     <th>P>|t|</th> <th>[0.025</th>  <th>0.975]</th> \n",
       "</tr>\n",
       "<tr>\n",
       "  <th>Intercept</th> <td>4.0638</td>   <td>0.4367</td>  <td>9.3050</td>  <td>0.0000</td> <td>3.1985</td>  <td>4.9292</td> \n",
       "</tr>\n",
       "<tr>\n",
       "  <th>avgfood</th>   <td>2.5089</td>   <td>1.4787</td>  <td>1.6967</td>  <td>0.0925</td> <td>-0.4209</td> <td>5.4388</td> \n",
       "</tr>\n",
       "<tr>\n",
       "  <th>groupsize</th> <td>-0.6077</td>  <td>0.1593</td>  <td>-3.8146</td> <td>0.0002</td> <td>-0.9234</td> <td>-0.2921</td>\n",
       "</tr>\n",
       "<tr>\n",
       "  <th>area</th>      <td>0.3850</td>   <td>0.2436</td>  <td>1.5809</td>  <td>0.1167</td> <td>-0.0975</td> <td>0.8676</td> \n",
       "</tr>\n",
       "</table>\n",
       "<table class=\"simpletable\">\n",
       "<tr>\n",
       "     <td>Omnibus:</td>    <td>1.072</td>  <td>Durbin-Watson:</td>   <td>1.878</td>\n",
       "</tr>\n",
       "<tr>\n",
       "  <td>Prob(Omnibus):</td> <td>0.585</td> <td>Jarque-Bera (JB):</td> <td>0.754</td>\n",
       "</tr>\n",
       "<tr>\n",
       "       <td>Skew:</td>     <td>0.189</td>     <td>Prob(JB):</td>     <td>0.686</td>\n",
       "</tr>\n",
       "<tr>\n",
       "     <td>Kurtosis:</td>   <td>3.114</td>  <td>Condition No.:</td>    <td>83</td>  \n",
       "</tr>\n",
       "</table>"
      ],
      "text/plain": [
       "<class 'statsmodels.iolib.summary2.Summary'>\n",
       "\"\"\"\n",
       "                 Results: Ordinary least squares\n",
       "=================================================================\n",
       "Model:              OLS              Adj. R-squared:     0.099   \n",
       "Dependent Variable: weight           AIC:                360.2208\n",
       "Date:               2017-11-29 11:38 BIC:                371.2351\n",
       "No. Observations:   116              Log-Likelihood:     -176.11 \n",
       "Df Model:           3                F-statistic:        5.211   \n",
       "Df Residuals:       112              Prob (F-statistic): 0.00209 \n",
       "R-squared:          0.122            Scale:              1.2631  \n",
       "------------------------------------------------------------------\n",
       "               Coef.   Std.Err.     t     P>|t|    [0.025   0.975]\n",
       "------------------------------------------------------------------\n",
       "Intercept      4.0638    0.4367   9.3050  0.0000   3.1985   4.9292\n",
       "avgfood        2.5089    1.4787   1.6967  0.0925  -0.4209   5.4388\n",
       "groupsize     -0.6077    0.1593  -3.8146  0.0002  -0.9234  -0.2921\n",
       "area           0.3850    0.2436   1.5809  0.1167  -0.0975   0.8676\n",
       "-----------------------------------------------------------------\n",
       "Omnibus:              1.072        Durbin-Watson:           1.878\n",
       "Prob(Omnibus):        0.585        Jarque-Bera (JB):        0.754\n",
       "Skew:                 0.189        Prob(JB):                0.686\n",
       "Kurtosis:             3.114        Condition No.:           83   \n",
       "=================================================================\n",
       "\n",
       "\"\"\""
      ]
     },
     "execution_count": 40,
     "metadata": {},
     "output_type": "execute_result"
    }
   ],
   "source": [
    "m5H33 = sm.OLS.from_formula('weight ~  avgfood + groupsize + area', data=foxes)\n",
    "m5H33res = m5H33.fit()\n",
    "m5H33res.summary2()"
   ]
  }
 ],
 "metadata": {
  "kernelspec": {
   "display_name": "Python 3",
   "language": "python",
   "name": "python3"
  },
  "language_info": {
   "codemirror_mode": {
    "name": "ipython",
    "version": 3
   },
   "file_extension": ".py",
   "mimetype": "text/x-python",
   "name": "python",
   "nbconvert_exporter": "python",
   "pygments_lexer": "ipython3",
   "version": "3.6.3"
  }
 },
 "nbformat": 4,
 "nbformat_minor": 2
}
